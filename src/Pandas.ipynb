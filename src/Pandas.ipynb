{
 "cells": [
  {
   "cell_type": "markdown",
   "id": "6eda8e4b",
   "metadata": {},
   "source": [
    "# PANDAS\n"
   ]
  },
  {
   "cell_type": "markdown",
   "id": "a5191c49",
   "metadata": {},
   "source": [
    "### Part I"
   ]
  },
  {
   "cell_type": "code",
   "execution_count": null,
   "id": "3e543caf",
   "metadata": {},
   "outputs": [],
   "source": [
    "import pandas as pd"
   ]
  },
  {
   "cell_type": "code",
   "execution_count": null,
   "id": "8bc273c2",
   "metadata": {},
   "outputs": [],
   "source": [
    "det = pd.read_csv(r\"C:\\Users\\ASUS\\Desktop\\python\\sample.csv\", index_col=\"Product\")\n"
   ]
  },
  {
   "cell_type": "code",
   "execution_count": null,
   "id": "45bd6169",
   "metadata": {},
   "outputs": [],
   "source": [
    "det.head()"
   ]
  },
  {
   "cell_type": "code",
   "execution_count": null,
   "id": "e992ed49",
   "metadata": {},
   "outputs": [],
   "source": [
    "##no of entries\n",
    "det.info()"
   ]
  },
  {
   "cell_type": "code",
   "execution_count": null,
   "id": "6812268e",
   "metadata": {},
   "outputs": [],
   "source": [
    "# matrix\n",
    "det.shape"
   ]
  },
  {
   "cell_type": "code",
   "execution_count": null,
   "id": "966f0634",
   "metadata": {},
   "outputs": [],
   "source": [
    "# index selection \n",
    "# def.loc[index,coloumn]\n",
    "det.loc[\"Microwave\",\"Price\"]"
   ]
  },
  {
   "cell_type": "code",
   "execution_count": null,
   "id": "e2e9acaf",
   "metadata": {},
   "outputs": [],
   "source": [
    "det['Price'].max()"
   ]
  },
  {
   "cell_type": "code",
   "execution_count": null,
   "id": "bb8d5801",
   "metadata": {},
   "outputs": [],
   "source": [
    "det.max()"
   ]
  },
  {
   "cell_type": "code",
   "execution_count": null,
   "id": "d41a29e2",
   "metadata": {},
   "outputs": [],
   "source": [
    "# Sumarised stat\n",
    "det['Price'].describe()"
   ]
  },
  {
   "cell_type": "code",
   "execution_count": null,
   "id": "c59b9c43",
   "metadata": {},
   "outputs": [],
   "source": [
    "det.describe()"
   ]
  },
  {
   "cell_type": "code",
   "execution_count": null,
   "id": "ba31e7e7",
   "metadata": {},
   "outputs": [],
   "source": [
    "det['Price'].describe"
   ]
  },
  {
   "cell_type": "code",
   "execution_count": null,
   "id": "52d6dc22",
   "metadata": {},
   "outputs": [],
   "source": [
    "# selecting indexes\n",
    "det.loc[[\n",
    "    \"Microwave\",\n",
    "    \"Laptop\",\n",
    "],\"Price\"]"
   ]
  },
  {
   "cell_type": "code",
   "execution_count": null,
   "id": "576f8e73",
   "metadata": {},
   "outputs": [],
   "source": [
    "#sorting values\n",
    "det.sort_values(by=[\"Price\"], ascending=False)"
   ]
  },
  {
   "cell_type": "code",
   "execution_count": null,
   "id": "4354bc3c",
   "metadata": {},
   "outputs": [],
   "source": [
    "#conditional selection\n",
    "det.loc[det[\"Price\"]==det['Price'].max()]"
   ]
  },
  {
   "cell_type": "code",
   "execution_count": null,
   "id": "a55adf09",
   "metadata": {},
   "outputs": [],
   "source": [
    "(det[\"Price\"]==800).sum()"
   ]
  },
  {
   "cell_type": "code",
   "execution_count": null,
   "id": "2de98070",
   "metadata": {},
   "outputs": [],
   "source": [
    "det[\"Price\"].mode()"
   ]
  },
  {
   "cell_type": "code",
   "execution_count": null,
   "id": "ebe4cecd",
   "metadata": {},
   "outputs": [],
   "source": [
    "# counts of data  \n",
    "det[\"Price\"].value_counts()"
   ]
  },
  {
   "cell_type": "code",
   "execution_count": null,
   "id": "b75583e7",
   "metadata": {},
   "outputs": [],
   "source": [
    "det.loc[\n",
    "    (det['Price']>330)&\n",
    "    (det['Quantity']==2)\n",
    "]"
   ]
  },
  {
   "cell_type": "code",
   "execution_count": null,
   "id": "4ca4c52c",
   "metadata": {},
   "outputs": [],
   "source": [
    "# new coloumn\n",
    "det['total']=det['Price']+200"
   ]
  },
  {
   "cell_type": "code",
   "execution_count": null,
   "id": "f466424a",
   "metadata": {},
   "outputs": [],
   "source": [
    "det.sort_values(by=\"total\")"
   ]
  },
  {
   "cell_type": "code",
   "execution_count": null,
   "id": "6c6f75b6",
   "metadata": {},
   "outputs": [],
   "source": [
    "det.loc[det['total']>500]"
   ]
  },
  {
   "cell_type": "code",
   "execution_count": null,
   "id": "0fe35e7d",
   "metadata": {},
   "outputs": [],
   "source": [
    "# query\n",
    "det.query(\"total > 600\").sort_values(by='total', ascending=False)"
   ]
  },
  {
   "cell_type": "code",
   "execution_count": null,
   "id": "456bd609",
   "metadata": {},
   "outputs": [],
   "source": [
    "det['total'].mean()"
   ]
  },
  {
   "cell_type": "markdown",
   "id": "1a5f29b8",
   "metadata": {},
   "source": [
    "### part II"
   ]
  },
  {
   "cell_type": "code",
   "execution_count": null,
   "id": "aa015a39",
   "metadata": {},
   "outputs": [],
   "source": [
    "import numpy as np\n",
    "import pandas as pd\n",
    "\n",
    "import matplotlib.pyplot as plt\n",
    "import seaborn as sns"
   ]
  },
  {
   "cell_type": "code",
   "execution_count": null,
   "id": "1aae508f",
   "metadata": {},
   "outputs": [],
   "source": [
    "\n",
    "pok = pd.read_csv(r\"C:\\Users\\ASUS\\Desktop\\python\\pokemon.csv\")\n"
   ]
  },
  {
   "cell_type": "code",
   "execution_count": null,
   "id": "4eb673b2",
   "metadata": {},
   "outputs": [],
   "source": [
    "# boxplot\n",
    "sns.boxplot(data=pok, x='Attack')"
   ]
  },
  {
   "cell_type": "code",
   "execution_count": null,
   "id": "6647b04f",
   "metadata": {},
   "outputs": [],
   "source": [
    "pok.head(2)"
   ]
  },
  {
   "cell_type": "code",
   "execution_count": null,
   "id": "ee270c64",
   "metadata": {},
   "outputs": [],
   "source": [
    "pok.loc[pok['Attack']>147]"
   ]
  },
  {
   "cell_type": "code",
   "execution_count": null,
   "id": "07527213",
   "metadata": {},
   "outputs": [],
   "source": [
    "sns.boxplot(data=pok, x='Speed')"
   ]
  },
  {
   "cell_type": "code",
   "execution_count": null,
   "id": "bf547764",
   "metadata": {
    "scrolled": true
   },
   "outputs": [],
   "source": [
    "pok.loc[pok['Speed']<=30]"
   ]
  },
  {
   "cell_type": "code",
   "execution_count": null,
   "id": "32fcfa33",
   "metadata": {},
   "outputs": [],
   "source": [
    "pok[pok['Type 2'].isnull()]"
   ]
  },
  {
   "cell_type": "code",
   "execution_count": null,
   "id": "49e5b635",
   "metadata": {},
   "outputs": [],
   "source": [
    "pok.fillna(0)"
   ]
  },
  {
   "cell_type": "code",
   "execution_count": null,
   "id": "2c837b49",
   "metadata": {},
   "outputs": [],
   "source": [
    "(pok['Speed']<=30).sum()"
   ]
  },
  {
   "cell_type": "code",
   "execution_count": null,
   "id": "7e911015",
   "metadata": {},
   "outputs": [],
   "source": [
    "sum((pok['Speed']<=30))"
   ]
  },
  {
   "cell_type": "code",
   "execution_count": null,
   "id": "69d3dbc8",
   "metadata": {},
   "outputs": [],
   "source": [
    "pok.loc[pok['Sp. Def']<=30]"
   ]
  },
  {
   "cell_type": "code",
   "execution_count": null,
   "id": "7c248f2d",
   "metadata": {},
   "outputs": [],
   "source": [
    "pok['Legendary'].sum()"
   ]
  },
  {
   "cell_type": "code",
   "execution_count": null,
   "id": "0909e0b9",
   "metadata": {},
   "outputs": [],
   "source": [
    "ax=sns.scatterplot(data=pok, x='Defense', y='Attack' )\n",
    "ax.annotate(\"Below average!\",xy=(40,40), xytext=(40, 0), color='red',\n",
    "           arrowprops=dict(arrowstyle='->',color='red'))"
   ]
  },
  {
   "cell_type": "code",
   "execution_count": null,
   "id": "aefc7bd7",
   "metadata": {
    "scrolled": true
   },
   "outputs": [],
   "source": [
    "pok.sort_values(by='Defense',ascending=False).head(3)"
   ]
  },
  {
   "cell_type": "code",
   "execution_count": null,
   "id": "57a89865",
   "metadata": {},
   "outputs": [],
   "source": [
    "pok.sort_values(by=['Defense','Attack'],ascending=[False,True]).head(3)"
   ]
  },
  {
   "cell_type": "code",
   "execution_count": null,
   "id": "50df2a59",
   "metadata": {},
   "outputs": [],
   "source": [
    "(\n",
    "    (pok['Type 1']=='Fire') & \n",
    "    (pok['Type 2']=='Flying')\n",
    ").sum()"
   ]
  },
  {
   "cell_type": "code",
   "execution_count": null,
   "id": "e58be3bc",
   "metadata": {},
   "outputs": [],
   "source": [
    "ab=pok.loc[(pok['Type 1']=='Fire') & \n",
    "    (pok['Type 2']=='Flying')]"
   ]
  },
  {
   "cell_type": "code",
   "execution_count": null,
   "id": "8f8a11cd",
   "metadata": {},
   "outputs": [],
   "source": [
    "sns.boxplot(data=ab, x='Speed')\n"
   ]
  },
  {
   "cell_type": "code",
   "execution_count": null,
   "id": "176b156f",
   "metadata": {},
   "outputs": [],
   "source": [
    "pok['Type 2'].value_counts()"
   ]
  },
  {
   "cell_type": "code",
   "execution_count": null,
   "id": "6992bdda",
   "metadata": {},
   "outputs": [],
   "source": [
    "(\n",
    "    (pok['Type 1']=='Poison') |\n",
    "    (pok['Type 2']=='Poison')\n",
    ").sum()"
   ]
  },
  {
   "cell_type": "code",
   "execution_count": null,
   "id": "ffca2f40",
   "metadata": {},
   "outputs": [],
   "source": [
    "pok.loc[pok['Legendary'],'Type 1'].value_counts().plot(kind='bar')"
   ]
  },
  {
   "cell_type": "code",
   "execution_count": null,
   "id": "e8d0efeb",
   "metadata": {},
   "outputs": [],
   "source": [
    "pok.loc[\n",
    "    (pok['Type 1']=='Water')&\n",
    "    (pok['Generation']<=3)\n",
    "].sort_values(by='Total', ascending=False).head(5)"
   ]
  },
  {
   "cell_type": "code",
   "execution_count": null,
   "id": "8266fd72",
   "metadata": {},
   "outputs": [],
   "source": [
    "pok['Generation'].value_counts().plot(kind='bar')"
   ]
  },
  {
   "cell_type": "code",
   "execution_count": null,
   "id": "0b1b655f",
   "metadata": {},
   "outputs": [],
   "source": [
    "pok.loc[\n",
    "    ((pok['Type 1']=='Fire')|\n",
    "    (pok['Type 2']=='Fire'))&\n",
    "    (pok['Generation']>=7)\n",
    "].sort_values(by='Total',ascending=False)"
   ]
  },
  {
   "cell_type": "code",
   "execution_count": null,
   "id": "721e516a",
   "metadata": {},
   "outputs": [],
   "source": [
    "pok.loc[\n",
    "    (pok['Type 1']=='Fire')&\n",
    "    (pok['Legendary']),['Name','Attack']\n",
    "]"
   ]
  },
  {
   "cell_type": "markdown",
   "id": "b0c163e8",
   "metadata": {},
   "source": [
    "### Part III"
   ]
  },
  {
   "cell_type": "code",
   "execution_count": 1,
   "id": "5b0cb56f",
   "metadata": {},
   "outputs": [
    {
     "ename": "ValueError",
     "evalue": "numpy.dtype size changed, may indicate binary incompatibility. Expected 96 from C header, got 88 from PyObject",
     "output_type": "error",
     "traceback": [
      "\u001b[1;31m---------------------------------------------------------------------------\u001b[0m",
      "\u001b[1;31mValueError\u001b[0m                                Traceback (most recent call last)",
      "Cell \u001b[1;32mIn[1], line 2\u001b[0m\n\u001b[0;32m      1\u001b[0m \u001b[38;5;28;01mimport\u001b[39;00m \u001b[38;5;21;01mmath\u001b[39;00m\n\u001b[1;32m----> 2\u001b[0m \u001b[38;5;28;01mimport\u001b[39;00m \u001b[38;5;21;01mpandas\u001b[39;00m \u001b[38;5;28;01mas\u001b[39;00m \u001b[38;5;21;01mpd\u001b[39;00m\n",
      "File \u001b[1;32m~\\anaconda3\\Lib\\site-packages\\pandas\\__init__.py:22\u001b[0m\n\u001b[0;32m     19\u001b[0m \u001b[38;5;28;01mdel\u001b[39;00m _hard_dependencies, _dependency, _missing_dependencies\n\u001b[0;32m     21\u001b[0m \u001b[38;5;66;03m# numpy compat\u001b[39;00m\n\u001b[1;32m---> 22\u001b[0m \u001b[38;5;28;01mfrom\u001b[39;00m \u001b[38;5;21;01mpandas\u001b[39;00m\u001b[38;5;21;01m.\u001b[39;00m\u001b[38;5;21;01mcompat\u001b[39;00m \u001b[38;5;28;01mimport\u001b[39;00m is_numpy_dev \u001b[38;5;28;01mas\u001b[39;00m _is_numpy_dev  \u001b[38;5;66;03m# pyright: ignore # noqa:F401\u001b[39;00m\n\u001b[0;32m     24\u001b[0m \u001b[38;5;28;01mtry\u001b[39;00m:\n\u001b[0;32m     25\u001b[0m     \u001b[38;5;28;01mfrom\u001b[39;00m \u001b[38;5;21;01mpandas\u001b[39;00m\u001b[38;5;21;01m.\u001b[39;00m\u001b[38;5;21;01m_libs\u001b[39;00m \u001b[38;5;28;01mimport\u001b[39;00m hashtable \u001b[38;5;28;01mas\u001b[39;00m _hashtable, lib \u001b[38;5;28;01mas\u001b[39;00m _lib, tslib \u001b[38;5;28;01mas\u001b[39;00m _tslib\n",
      "File \u001b[1;32m~\\anaconda3\\Lib\\site-packages\\pandas\\compat\\__init__.py:25\u001b[0m\n\u001b[0;32m     17\u001b[0m \u001b[38;5;28;01mfrom\u001b[39;00m \u001b[38;5;21;01mpandas\u001b[39;00m\u001b[38;5;21;01m.\u001b[39;00m\u001b[38;5;21;01mcompat\u001b[39;00m\u001b[38;5;21;01m.\u001b[39;00m\u001b[38;5;21;01m_constants\u001b[39;00m \u001b[38;5;28;01mimport\u001b[39;00m (\n\u001b[0;32m     18\u001b[0m     IS64,\n\u001b[0;32m     19\u001b[0m     PY39,\n\u001b[1;32m   (...)\u001b[0m\n\u001b[0;32m     22\u001b[0m     PYPY,\n\u001b[0;32m     23\u001b[0m )\n\u001b[0;32m     24\u001b[0m \u001b[38;5;28;01mimport\u001b[39;00m \u001b[38;5;21;01mpandas\u001b[39;00m\u001b[38;5;21;01m.\u001b[39;00m\u001b[38;5;21;01mcompat\u001b[39;00m\u001b[38;5;21;01m.\u001b[39;00m\u001b[38;5;21;01mcompressors\u001b[39;00m\n\u001b[1;32m---> 25\u001b[0m \u001b[38;5;28;01mfrom\u001b[39;00m \u001b[38;5;21;01mpandas\u001b[39;00m\u001b[38;5;21;01m.\u001b[39;00m\u001b[38;5;21;01mcompat\u001b[39;00m\u001b[38;5;21;01m.\u001b[39;00m\u001b[38;5;21;01mnumpy\u001b[39;00m \u001b[38;5;28;01mimport\u001b[39;00m (\n\u001b[0;32m     26\u001b[0m     is_numpy_dev,\n\u001b[0;32m     27\u001b[0m     np_version_under1p21,\n\u001b[0;32m     28\u001b[0m )\n\u001b[0;32m     29\u001b[0m \u001b[38;5;28;01mfrom\u001b[39;00m \u001b[38;5;21;01mpandas\u001b[39;00m\u001b[38;5;21;01m.\u001b[39;00m\u001b[38;5;21;01mcompat\u001b[39;00m\u001b[38;5;21;01m.\u001b[39;00m\u001b[38;5;21;01mpyarrow\u001b[39;00m \u001b[38;5;28;01mimport\u001b[39;00m (\n\u001b[0;32m     30\u001b[0m     pa_version_under7p0,\n\u001b[0;32m     31\u001b[0m     pa_version_under8p0,\n\u001b[0;32m     32\u001b[0m     pa_version_under9p0,\n\u001b[0;32m     33\u001b[0m     pa_version_under11p0,\n\u001b[0;32m     34\u001b[0m )\n\u001b[0;32m     37\u001b[0m \u001b[38;5;28;01mdef\u001b[39;00m \u001b[38;5;21mset_function_name\u001b[39m(f: F, name: \u001b[38;5;28mstr\u001b[39m, \u001b[38;5;28mcls\u001b[39m) \u001b[38;5;241m-\u001b[39m\u001b[38;5;241m>\u001b[39m F:\n",
      "File \u001b[1;32m~\\anaconda3\\Lib\\site-packages\\pandas\\compat\\numpy\\__init__.py:4\u001b[0m\n\u001b[0;32m      1\u001b[0m \u001b[38;5;124;03m\"\"\" support numpy compatibility across versions \"\"\"\u001b[39;00m\n\u001b[0;32m      2\u001b[0m \u001b[38;5;28;01mimport\u001b[39;00m \u001b[38;5;21;01mnumpy\u001b[39;00m \u001b[38;5;28;01mas\u001b[39;00m \u001b[38;5;21;01mnp\u001b[39;00m\n\u001b[1;32m----> 4\u001b[0m \u001b[38;5;28;01mfrom\u001b[39;00m \u001b[38;5;21;01mpandas\u001b[39;00m\u001b[38;5;21;01m.\u001b[39;00m\u001b[38;5;21;01mutil\u001b[39;00m\u001b[38;5;21;01m.\u001b[39;00m\u001b[38;5;21;01mversion\u001b[39;00m \u001b[38;5;28;01mimport\u001b[39;00m Version\n\u001b[0;32m      6\u001b[0m \u001b[38;5;66;03m# numpy versioning\u001b[39;00m\n\u001b[0;32m      7\u001b[0m _np_version \u001b[38;5;241m=\u001b[39m np\u001b[38;5;241m.\u001b[39m__version__\n",
      "File \u001b[1;32m~\\anaconda3\\Lib\\site-packages\\pandas\\util\\__init__.py:2\u001b[0m\n\u001b[0;32m      1\u001b[0m \u001b[38;5;66;03m# pyright: reportUnusedImport = false\u001b[39;00m\n\u001b[1;32m----> 2\u001b[0m \u001b[38;5;28;01mfrom\u001b[39;00m \u001b[38;5;21;01mpandas\u001b[39;00m\u001b[38;5;21;01m.\u001b[39;00m\u001b[38;5;21;01mutil\u001b[39;00m\u001b[38;5;21;01m.\u001b[39;00m\u001b[38;5;21;01m_decorators\u001b[39;00m \u001b[38;5;28;01mimport\u001b[39;00m (  \u001b[38;5;66;03m# noqa:F401\u001b[39;00m\n\u001b[0;32m      3\u001b[0m     Appender,\n\u001b[0;32m      4\u001b[0m     Substitution,\n\u001b[0;32m      5\u001b[0m     cache_readonly,\n\u001b[0;32m      6\u001b[0m )\n\u001b[0;32m      8\u001b[0m \u001b[38;5;28;01mfrom\u001b[39;00m \u001b[38;5;21;01mpandas\u001b[39;00m\u001b[38;5;21;01m.\u001b[39;00m\u001b[38;5;21;01mcore\u001b[39;00m\u001b[38;5;21;01m.\u001b[39;00m\u001b[38;5;21;01mutil\u001b[39;00m\u001b[38;5;21;01m.\u001b[39;00m\u001b[38;5;21;01mhashing\u001b[39;00m \u001b[38;5;28;01mimport\u001b[39;00m (  \u001b[38;5;66;03m# noqa:F401\u001b[39;00m\n\u001b[0;32m      9\u001b[0m     hash_array,\n\u001b[0;32m     10\u001b[0m     hash_pandas_object,\n\u001b[0;32m     11\u001b[0m )\n",
      "File \u001b[1;32m~\\anaconda3\\Lib\\site-packages\\pandas\\util\\_decorators.py:14\u001b[0m\n\u001b[0;32m      6\u001b[0m \u001b[38;5;28;01mfrom\u001b[39;00m \u001b[38;5;21;01mtyping\u001b[39;00m \u001b[38;5;28;01mimport\u001b[39;00m (\n\u001b[0;32m      7\u001b[0m     Any,\n\u001b[0;32m      8\u001b[0m     Callable,\n\u001b[0;32m      9\u001b[0m     Mapping,\n\u001b[0;32m     10\u001b[0m     cast,\n\u001b[0;32m     11\u001b[0m )\n\u001b[0;32m     12\u001b[0m \u001b[38;5;28;01mimport\u001b[39;00m \u001b[38;5;21;01mwarnings\u001b[39;00m\n\u001b[1;32m---> 14\u001b[0m \u001b[38;5;28;01mfrom\u001b[39;00m \u001b[38;5;21;01mpandas\u001b[39;00m\u001b[38;5;21;01m.\u001b[39;00m\u001b[38;5;21;01m_libs\u001b[39;00m\u001b[38;5;21;01m.\u001b[39;00m\u001b[38;5;21;01mproperties\u001b[39;00m \u001b[38;5;28;01mimport\u001b[39;00m cache_readonly\n\u001b[0;32m     15\u001b[0m \u001b[38;5;28;01mfrom\u001b[39;00m \u001b[38;5;21;01mpandas\u001b[39;00m\u001b[38;5;21;01m.\u001b[39;00m\u001b[38;5;21;01m_typing\u001b[39;00m \u001b[38;5;28;01mimport\u001b[39;00m (\n\u001b[0;32m     16\u001b[0m     F,\n\u001b[0;32m     17\u001b[0m     T,\n\u001b[0;32m     18\u001b[0m )\n\u001b[0;32m     19\u001b[0m \u001b[38;5;28;01mfrom\u001b[39;00m \u001b[38;5;21;01mpandas\u001b[39;00m\u001b[38;5;21;01m.\u001b[39;00m\u001b[38;5;21;01mutil\u001b[39;00m\u001b[38;5;21;01m.\u001b[39;00m\u001b[38;5;21;01m_exceptions\u001b[39;00m \u001b[38;5;28;01mimport\u001b[39;00m find_stack_level\n",
      "File \u001b[1;32m~\\anaconda3\\Lib\\site-packages\\pandas\\_libs\\__init__.py:13\u001b[0m\n\u001b[0;32m      1\u001b[0m __all__ \u001b[38;5;241m=\u001b[39m [\n\u001b[0;32m      2\u001b[0m     \u001b[38;5;124m\"\u001b[39m\u001b[38;5;124mNaT\u001b[39m\u001b[38;5;124m\"\u001b[39m,\n\u001b[0;32m      3\u001b[0m     \u001b[38;5;124m\"\u001b[39m\u001b[38;5;124mNaTType\u001b[39m\u001b[38;5;124m\"\u001b[39m,\n\u001b[1;32m   (...)\u001b[0m\n\u001b[0;32m      9\u001b[0m     \u001b[38;5;124m\"\u001b[39m\u001b[38;5;124mInterval\u001b[39m\u001b[38;5;124m\"\u001b[39m,\n\u001b[0;32m     10\u001b[0m ]\n\u001b[1;32m---> 13\u001b[0m \u001b[38;5;28;01mfrom\u001b[39;00m \u001b[38;5;21;01mpandas\u001b[39;00m\u001b[38;5;21;01m.\u001b[39;00m\u001b[38;5;21;01m_libs\u001b[39;00m\u001b[38;5;21;01m.\u001b[39;00m\u001b[38;5;21;01minterval\u001b[39;00m \u001b[38;5;28;01mimport\u001b[39;00m Interval\n\u001b[0;32m     14\u001b[0m \u001b[38;5;28;01mfrom\u001b[39;00m \u001b[38;5;21;01mpandas\u001b[39;00m\u001b[38;5;21;01m.\u001b[39;00m\u001b[38;5;21;01m_libs\u001b[39;00m\u001b[38;5;21;01m.\u001b[39;00m\u001b[38;5;21;01mtslibs\u001b[39;00m \u001b[38;5;28;01mimport\u001b[39;00m (\n\u001b[0;32m     15\u001b[0m     NaT,\n\u001b[0;32m     16\u001b[0m     NaTType,\n\u001b[1;32m   (...)\u001b[0m\n\u001b[0;32m     21\u001b[0m     iNaT,\n\u001b[0;32m     22\u001b[0m )\n",
      "File \u001b[1;32m~\\anaconda3\\Lib\\site-packages\\pandas\\_libs\\interval.pyx:1\u001b[0m, in \u001b[0;36minit pandas._libs.interval\u001b[1;34m()\u001b[0m\n",
      "\u001b[1;31mValueError\u001b[0m: numpy.dtype size changed, may indicate binary incompatibility. Expected 96 from C header, got 88 from PyObject"
     ]
    }
   ],
   "source": [
    "import math\n",
    "import pandas as pd"
   ]
  },
  {
   "cell_type": "code",
   "execution_count": null,
   "id": "43510eac",
   "metadata": {},
   "outputs": [],
   "source": [
    "dat=pd.read_csv(r'C:\\Users\\ASUS\\Desktop\\python\\NBA.csv')"
   ]
  },
  {
   "cell_type": "code",
   "execution_count": null,
   "id": "8b2bf02f",
   "metadata": {},
   "outputs": [],
   "source": [
    "dat.head()"
   ]
  },
  {
   "cell_type": "code",
   "execution_count": null,
   "id": "50f4c5c8",
   "metadata": {},
   "outputs": [],
   "source": [
    "dat['Team'].value_counts()"
   ]
  },
  {
   "cell_type": "code",
   "execution_count": null,
   "id": "1e800bd3",
   "metadata": {},
   "outputs": [],
   "source": [
    "# Combination\n",
    "def nCr(n, k):\n",
    "    f=math.factorial\n",
    "    return f(n) / (f(k) * f(n-k))"
   ]
  },
  {
   "cell_type": "code",
   "execution_count": null,
   "id": "b02f4af2",
   "metadata": {},
   "outputs": [],
   "source": [
    "nCr(5,2)"
   ]
  },
  {
   "cell_type": "code",
   "execution_count": null,
   "id": "c2b204e6",
   "metadata": {},
   "outputs": [],
   "source": [
    "nCr(6,3)"
   ]
  },
  {
   "cell_type": "code",
   "execution_count": null,
   "id": "3f4c8ce3",
   "metadata": {},
   "outputs": [],
   "source": [
    "# birthday problem\n",
    "1-((364 / 365) ** nCr(10,2))"
   ]
  },
  {
   "cell_type": "code",
   "execution_count": null,
   "id": "b15ec3a9",
   "metadata": {},
   "outputs": [],
   "source": [
    "#birthday function\n",
    "def bd_prob(no):\n",
    "    return 1-((364 / 365) ** nCr(no,2))"
   ]
  },
  {
   "cell_type": "code",
   "execution_count": null,
   "id": "59b36c49",
   "metadata": {},
   "outputs": [],
   "source": [
    "bd_prob(23)"
   ]
  },
  {
   "cell_type": "code",
   "execution_count": null,
   "id": "4237d1f1",
   "metadata": {},
   "outputs": [],
   "source": [
    "dat['Birth Date'].dt.strftime('%Y').value_counts()"
   ]
  },
  {
   "cell_type": "code",
   "execution_count": null,
   "id": "d9d40f15",
   "metadata": {},
   "outputs": [],
   "source": [
    "dat['Birth Date'].dt.strftime('%m-%d')"
   ]
  },
  {
   "cell_type": "code",
   "execution_count": null,
   "id": "eb57e7cb",
   "metadata": {},
   "outputs": [],
   "source": [
    "dat['bday']=dat['Birth Date'].dt.strftime('%m-%d')"
   ]
  },
  {
   "cell_type": "code",
   "execution_count": null,
   "id": "75cb8e3b",
   "metadata": {},
   "outputs": [],
   "source": [
    "dat.head()"
   ]
  },
  {
   "cell_type": "code",
   "execution_count": null,
   "id": "0a921583",
   "metadata": {},
   "outputs": [],
   "source": [
    "x=dat['bday']"
   ]
  },
  {
   "cell_type": "code",
   "execution_count": null,
   "id": "2c9219b0",
   "metadata": {},
   "outputs": [],
   "source": [
    "nCr(x,2)"
   ]
  },
  {
   "cell_type": "code",
   "execution_count": null,
   "id": "88023792",
   "metadata": {},
   "outputs": [],
   "source": []
  },
  {
   "cell_type": "markdown",
   "id": "2c5e56f2",
   "metadata": {},
   "source": [
    "## mlops"
   ]
  },
  {
   "cell_type": "code",
   "execution_count": null,
   "id": "831f1686",
   "metadata": {},
   "outputs": [],
   "source": [
    "data=[1,2,3,4]\n",
    "index=['a','b','c','d']\n",
    "pd.Series(data,index=index)"
   ]
  },
  {
   "cell_type": "code",
   "execution_count": null,
   "id": "8e557218",
   "metadata": {},
   "outputs": [],
   "source": [
    "#data frame\n",
    "data={\n",
    "    'name':['krish','john','jack','dave'],\n",
    "    'age':[23,43,23,24],\n",
    "}"
   ]
  },
  {
   "cell_type": "code",
   "execution_count": null,
   "id": "0e25d8dc",
   "metadata": {},
   "outputs": [],
   "source": [
    "df=pd.DataFrame(data)"
   ]
  },
  {
   "cell_type": "code",
   "execution_count": null,
   "id": "e75fb274",
   "metadata": {},
   "outputs": [],
   "source": [
    "df2=pd.DataFrame({\n",
    "    'name':['krish','john','jack','dave'],\n",
    "    'salary':[20000,30000,50000,45000]\n",
    "})"
   ]
  },
  {
   "cell_type": "code",
   "execution_count": null,
   "id": "0631c224",
   "metadata": {},
   "outputs": [],
   "source": [
    "df2"
   ]
  },
  {
   "cell_type": "code",
   "execution_count": null,
   "id": "378ab727",
   "metadata": {},
   "outputs": [],
   "source": [
    "df['name'].value_counts()"
   ]
  },
  {
   "cell_type": "code",
   "execution_count": null,
   "id": "5806b900",
   "metadata": {},
   "outputs": [],
   "source": [
    "df.iloc[0][1]"
   ]
  },
  {
   "cell_type": "code",
   "execution_count": null,
   "id": "dad14162",
   "metadata": {},
   "outputs": [],
   "source": [
    "df3=pd.merge(df,df2,on='name')"
   ]
  },
  {
   "cell_type": "code",
   "execution_count": null,
   "id": "386f9340",
   "metadata": {},
   "outputs": [],
   "source": [
    "df3"
   ]
  },
  {
   "cell_type": "code",
   "execution_count": null,
   "id": "0ea84de6",
   "metadata": {},
   "outputs": [],
   "source": [
    "df3['age']=df3['age']+1"
   ]
  },
  {
   "cell_type": "code",
   "execution_count": null,
   "id": "26e345f8",
   "metadata": {},
   "outputs": [],
   "source": [
    "df3"
   ]
  },
  {
   "cell_type": "code",
   "execution_count": null,
   "id": "fc3d40e8",
   "metadata": {},
   "outputs": [],
   "source": [
    "df3['bonus']=df3['salary']+df3['salary'].mean().astype(int)"
   ]
  },
  {
   "cell_type": "code",
   "execution_count": null,
   "id": "11ef4890",
   "metadata": {},
   "outputs": [],
   "source": [
    "df3['comission']=df3['salary'].apply(lambda x:x*(10/100))"
   ]
  },
  {
   "cell_type": "code",
   "execution_count": null,
   "id": "beca9485",
   "metadata": {},
   "outputs": [],
   "source": [
    "df3"
   ]
  },
  {
   "cell_type": "code",
   "execution_count": null,
   "id": "c717dce9",
   "metadata": {},
   "outputs": [],
   "source": [
    "mn1=df3.groupby('age')['salary'].mean()"
   ]
  },
  {
   "cell_type": "code",
   "execution_count": null,
   "id": "af9668b7",
   "metadata": {},
   "outputs": [],
   "source": [
    "mn1"
   ]
  },
  {
   "cell_type": "code",
   "execution_count": null,
   "id": "5220aa76",
   "metadata": {},
   "outputs": [],
   "source": [
    "mn2=df3.groupby(['name','age'])['salary'].mean()"
   ]
  },
  {
   "cell_type": "code",
   "execution_count": null,
   "id": "64faf433",
   "metadata": {},
   "outputs": [],
   "source": [
    "mn2"
   ]
  },
  {
   "cell_type": "code",
   "execution_count": null,
   "id": "18b902d6",
   "metadata": {},
   "outputs": [],
   "source": [
    "agg1=df3.groupby('age')['salary'].agg(['mean','sum','count'])"
   ]
  },
  {
   "cell_type": "code",
   "execution_count": null,
   "id": "57031cb2",
   "metadata": {},
   "outputs": [],
   "source": [
    "agg1"
   ]
  },
  {
   "cell_type": "markdown",
   "id": "fc7c3176",
   "metadata": {},
   "source": [
    "## read data"
   ]
  },
  {
   "cell_type": "code",
   "execution_count": null,
   "id": "20ca025e",
   "metadata": {},
   "outputs": [],
   "source": [
    "from io import StringIO"
   ]
  },
  {
   "cell_type": "code",
   "execution_count": null,
   "id": "3df6e215",
   "metadata": {},
   "outputs": [],
   "source": [
    "data='[{\"name\": \"james\",\"email\":\"james@gmail.com\",\"job\":\"developer\"}]'\n",
    "df4=pd.read_json(StringIO(data))"
   ]
  },
  {
   "cell_type": "code",
   "execution_count": null,
   "id": "07dc98bf",
   "metadata": {},
   "outputs": [],
   "source": [
    "df4"
   ]
  },
  {
   "cell_type": "code",
   "execution_count": null,
   "id": "79979916",
   "metadata": {},
   "outputs": [],
   "source": [
    "df4.to_json()"
   ]
  },
  {
   "cell_type": "code",
   "execution_count": null,
   "id": "371b0414",
   "metadata": {},
   "outputs": [],
   "source": [
    "df4.to_json(orient='records')"
   ]
  },
  {
   "cell_type": "code",
   "execution_count": null,
   "id": "7161643c",
   "metadata": {},
   "outputs": [],
   "source": [
    "df4.to_json(orient='index')"
   ]
  },
  {
   "cell_type": "code",
   "execution_count": null,
   "id": "dea3d78e",
   "metadata": {},
   "outputs": [],
   "source": [
    "pok.to_csv(\"pok.csv\")"
   ]
  },
  {
   "cell_type": "code",
   "execution_count": null,
   "id": "a62f4a53",
   "metadata": {},
   "outputs": [],
   "source": [
    "url='https://www.fdic.gov/bank-failures/failed-bank-list'\n",
    "bank=pd.read_html(url)\n"
   ]
  },
  {
   "cell_type": "code",
   "execution_count": null,
   "id": "41ce333b",
   "metadata": {},
   "outputs": [],
   "source": [
    "bank[0]"
   ]
  },
  {
   "cell_type": "code",
   "execution_count": null,
   "id": "c94077a6",
   "metadata": {},
   "outputs": [],
   "source": [
    "bank1=bank[0]"
   ]
  },
  {
   "cell_type": "code",
   "execution_count": null,
   "id": "e21ab35f",
   "metadata": {},
   "outputs": [],
   "source": [
    "bank1.loc[bank1['City']=='Chicago']"
   ]
  },
  {
   "cell_type": "code",
   "execution_count": null,
   "id": "698c3af8",
   "metadata": {},
   "outputs": [],
   "source": [
    "bank1['Cert'].describe()"
   ]
  },
  {
   "cell_type": "code",
   "execution_count": null,
   "id": "0693f10a",
   "metadata": {},
   "outputs": [],
   "source": [
    "url1='https://en.wikipedia.org/wiki/Mobile_country_code'\n",
    "cl=pd.read_html(url1,match='Country')[0]"
   ]
  },
  {
   "cell_type": "code",
   "execution_count": null,
   "id": "07a2a570",
   "metadata": {},
   "outputs": [],
   "source": [
    "cl.to_csv(\"code.csv\",index='false')"
   ]
  },
  {
   "cell_type": "code",
   "execution_count": null,
   "id": "9e36ee40",
   "metadata": {},
   "outputs": [],
   "source": [
    "cl.head()"
   ]
  },
  {
   "cell_type": "code",
   "execution_count": null,
   "id": "0b485019",
   "metadata": {},
   "outputs": [],
   "source": [
    "cl.tail()"
   ]
  },
  {
   "cell_type": "code",
   "execution_count": null,
   "id": "7f4a182b",
   "metadata": {},
   "outputs": [],
   "source": [
    "cl.loc[cl['Country']=='Sri Lanka']"
   ]
  },
  {
   "cell_type": "markdown",
   "id": "e5c9df61",
   "metadata": {},
   "source": [
    "## logging"
   ]
  },
  {
   "cell_type": "code",
   "execution_count": null,
   "id": "513b370e",
   "metadata": {},
   "outputs": [],
   "source": [
    "## tracking events,errors and operations\n",
    "import logging\n"
   ]
  },
  {
   "cell_type": "code",
   "execution_count": null,
   "id": "a1f11a58",
   "metadata": {},
   "outputs": [],
   "source": [
    "logging.basicConfig(\n",
    "    filename='app.log',\n",
    "    filemode='w',\n",
    "    level=logging.DEBUG,\n",
    "    format='%(asctime)s-%(name)s-%(levelname)s-%(message)s',\n",
    "    datefmt='%Y-%m-%d %H %M %S'\n",
    ")\n",
    "\n",
    "##log messages with different levels\n",
    "logging.debug(\"this is a debug message\")\n",
    "logging.info(\"this is a info message\")\n",
    "logging.warning(\"this is a warning message\")\n",
    "logging.error(\"this is an erro message\")\n",
    "logging.critical(\"this is a critical message\")"
   ]
  },
  {
   "cell_type": "code",
   "execution_count": null,
   "id": "980c03ca",
   "metadata": {},
   "outputs": [],
   "source": [
    "##log messages with different levels\n",
    "logging.debug(\"this is a debug message\")\n",
    "logging.info(\"this is a info message\")\n",
    "logging.warning(\"this is a warning message\")\n",
    "logging.error(\"this is an erro message\")\n",
    "logging.critical(\"this is a critical message\")"
   ]
  },
  {
   "cell_type": "code",
   "execution_count": null,
   "id": "2d76b234",
   "metadata": {},
   "outputs": [],
   "source": [
    "##module 1\n",
    "logger1=logging.getLogger(\"module1\")\n",
    "logger1.setLevel(logging.DEBUG)\n",
    "\n",
    "##module 2\n",
    "logger2=logging.getLogger(\"module2\")\n",
    "logger2.setLevel(logging.WARNING)\n",
    "\n",
    "logging.basicConfig(\n",
    "    level=logging.DEBUG,\n",
    "    format='%(asctime)s-%(name)s-%(levelname)s-%(message)s',\n",
    "    datefmt='%Y-%m-%d %H %M %S'\n",
    ")\n",
    "\n",
    "\n",
    "logger1.debug(\"this is a debug message\")\n",
    "logger2.warning(\"this is a warning message\")"
   ]
  },
  {
   "cell_type": "markdown",
   "id": "1b707d15",
   "metadata": {},
   "source": [
    "### sample"
   ]
  },
  {
   "cell_type": "code",
   "execution_count": null,
   "id": "0d0d4f92",
   "metadata": {},
   "outputs": [],
   "source": [
    "logging.basicConfig(\n",
    "    level=logging.DEBUG,\n",
    "    format='%(asctime)s-%(name)s-%(levelname)s-%(message)s',\n",
    "    datefmt='%Y-%m-%d %H %M %S',\n",
    "    handlers=[\n",
    "        logging.FileHandler('app1.log'),\n",
    "        logging.StreamHandler()\n",
    "    ]\n",
    ")\n",
    "\n",
    "logger=logging.getLogger(\"arithmatic\")\n",
    "\n",
    "def add(a,b):\n",
    "    result=a+b\n",
    "    logger.debug(f\"adding: {a}+{b}\")\n",
    "    return result\n"
   ]
  },
  {
   "cell_type": "code",
   "execution_count": null,
   "id": "406b9cd3",
   "metadata": {},
   "outputs": [],
   "source": [
    "add(12,5)"
   ]
  },
  {
   "cell_type": "code",
   "execution_count": null,
   "id": "43ef71c8",
   "metadata": {},
   "outputs": [],
   "source": [
    "aa=pd.DataFrame({\n",
    "    'area':[2600,3000,3200,3600,4000],\n",
    "    'price':[5500000,5650000,6100000,6800000,7250000]\n",
    "})"
   ]
  },
  {
   "cell_type": "code",
   "execution_count": null,
   "id": "85557a43",
   "metadata": {},
   "outputs": [],
   "source": []
  }
 ],
 "metadata": {
  "kernelspec": {
   "display_name": "Python 3 (ipykernel)",
   "language": "python",
   "name": "python3"
  },
  "language_info": {
   "codemirror_mode": {
    "name": "ipython",
    "version": 3
   },
   "file_extension": ".py",
   "mimetype": "text/x-python",
   "name": "python",
   "nbconvert_exporter": "python",
   "pygments_lexer": "ipython3",
   "version": "3.11.5"
  }
 },
 "nbformat": 4,
 "nbformat_minor": 5
}
